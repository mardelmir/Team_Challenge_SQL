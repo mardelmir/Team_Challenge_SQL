{
 "cells": [
  {
   "cell_type": "markdown",
   "metadata": {},
   "source": [
    "### Respuesta SQL Murder\n",
    "\n",
    "-para esta ocasion teniamos que encontrar al autor de un asesinato en SQL City\n",
    "para ello buscamos el informe del asesinato, el cual habiamo extraviado\n",
    "al conseguir el informe vimo que existian dos testigos. los cuales hicieron una declaración\n",
    "Al seguir las pistas de los testigos, dimos con un hombre, Jeremy Bowers. presunto asesion\n",
    "al arrestarlo y tomarle declaración. descubrimos que fue contratado por una tercera persona\n",
    "Gracias a su declaracion y descripción de algunos datos de la ersona que lo contrato, pudimos seguir la pista hasta Miranda Priestly\n",
    "La autentica mente detrás del asesinato.\n"
   ]
  },
  {
   "cell_type": "markdown",
   "metadata": {},
   "source": [
    "/*SELECT * \n",
    "FROM crime_scene_report\n",
    "WHERE date = '20180115'\n",
    "AND city = 'SQL City'\n",
    "AND type = 'murder'*/\n",
    "--The first witness lives at the last house on \"Northwestern Dr\"\n",
    "--The second witness, named Annabel, lives somewhere on \"Franklin Ave\".\n",
    "              \n",
    "/*SELECT id,name,address_street_name, MAX(address_number)number\n",
    "FROM person\n",
    "WHERE address_street_name = 'Northwestern Dr'\n",
    "\n",
    "UNION\n",
    "\n",
    "SELECT id,name,address_street_name, address_number\n",
    "FROM person\n",
    "WHERE address_street_name = 'Franklin Ave'\n",
    "AND name LIKE '%Annabel%'*/\n",
    "\n",
    "--14887, 16371\n",
    "/*SELECT *\n",
    "FROM interview\n",
    "WHERE person_id IN (14887, 16371)*/\n",
    "-- el sospechoso es un hombre socio de un gym con membresia oro \"48z\" y un coche con matricula H42W\n",
    "--y estuvo en el gym el 9 de enero donde lo vieron. se confirma con la segundo testigo que es el asesino\n",
    "\n",
    "/*SELECT *\n",
    "FROM get_fit_now_member A\n",
    "INNER JOIN get_fit_now_check_in B ON A.id = B.membership_id\n",
    "INNER JOIN person P ON P.id = A.person_id\n",
    "INNER JOIN drivers_license L ON L.ID = P.license_id\n",
    "WHERE B.check_in_date = '20180109'\n",
    "AND A.membership_status = 'gold'\n",
    "AND A.id LIKE '48Z%'\n",
    "AND L.plate_number LIKE '%H42W%' */\n",
    "\n",
    "/*SELECT *\n",
    "FROM interview\n",
    "WHERE person_id = 67318*/\n",
    "\n",
    "-- es un asesinato encargado por un amujer con mucho dinero y pelirroja\n",
    "--conduce un tesla model s, con una estatura de 5.5- 5.7 aproximadamente\n",
    "-- estuvo en el concierto de SQL Symphony Concert  veces en el 2017\n",
    " SELECT A.id, A.name, C.annual_income, D.event_name, D.date, b.*\n",
    " FROM person A\n",
    " INNER JOIN drivers_license B ON B.id = A.license_id\n",
    " INNER JOIN income C ON C.ssn = A.ssn\n",
    " INNER JOIN facebook_event_checkin D ON D.person_id = A.id\n",
    " WHERE B.gender ='female'\n",
    " AND B.car_make = 'Tesla'\n",
    " AND B.CAR_MODEL = 'Model S'\n",
    " AND B.hair_color = 'red'"
   ]
  }
 ],
 "metadata": {
  "kernelspec": {
   "display_name": "Python 3",
   "language": "python",
   "name": "python3"
  },
  "language_info": {
   "name": "python",
   "version": "3.12.3"
  }
 },
 "nbformat": 4,
 "nbformat_minor": 2
}
