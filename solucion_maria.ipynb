{
 "cells": [
  {
   "cell_type": "markdown",
   "metadata": {},
   "source": [
    "# Solución María"
   ]
  },
  {
   "cell_type": "markdown",
   "metadata": {},
   "source": [
    "### 0. Importaciones"
   ]
  },
  {
   "cell_type": "code",
   "execution_count": 7,
   "metadata": {},
   "outputs": [],
   "source": [
    "import pandas as pd\n",
    "import sqlite3\n",
    "\n",
    "conn = sqlite3.connect('./Data/sql-murder-mystery.db')\n",
    "cursor_ch = conn.cursor()\n",
    "sql_query = lambda query: pd.read_sql(query, conn)"
   ]
  },
  {
   "cell_type": "markdown",
   "metadata": {},
   "source": [
    "### 1. Datos iniciales"
   ]
  },
  {
   "cell_type": "code",
   "execution_count": 8,
   "metadata": {},
   "outputs": [
    {
     "data": {
      "text/html": [
       "<div>\n",
       "<style scoped>\n",
       "    .dataframe tbody tr th:only-of-type {\n",
       "        vertical-align: middle;\n",
       "    }\n",
       "\n",
       "    .dataframe tbody tr th {\n",
       "        vertical-align: top;\n",
       "    }\n",
       "\n",
       "    .dataframe thead th {\n",
       "        text-align: right;\n",
       "    }\n",
       "</style>\n",
       "<table border=\"1\" class=\"dataframe\">\n",
       "  <thead>\n",
       "    <tr style=\"text-align: right;\">\n",
       "      <th></th>\n",
       "      <th>date</th>\n",
       "      <th>type</th>\n",
       "      <th>description</th>\n",
       "      <th>city</th>\n",
       "    </tr>\n",
       "  </thead>\n",
       "  <tbody>\n",
       "    <tr>\n",
       "      <th>0</th>\n",
       "      <td>20180115</td>\n",
       "      <td>murder</td>\n",
       "      <td>Security footage shows that there were 2 witne...</td>\n",
       "      <td>SQL City</td>\n",
       "    </tr>\n",
       "  </tbody>\n",
       "</table>\n",
       "</div>"
      ],
      "text/plain": [
       "       date    type                                        description  \\\n",
       "0  20180115  murder  Security footage shows that there were 2 witne...   \n",
       "\n",
       "       city  \n",
       "0  SQL City  "
      ]
     },
     "execution_count": 8,
     "metadata": {},
     "output_type": "execute_result"
    }
   ],
   "source": [
    "query = '''\n",
    "SELECT * FROM crime_scene_report\n",
    "WHERE date = 20180115 \n",
    "AND type = 'murder'\n",
    "AND city = 'SQL City'\n",
    "'''\n",
    "\n",
    "sql_query(query)"
   ]
  },
  {
   "cell_type": "markdown",
   "metadata": {},
   "source": [
    "### 2. Búsqueda de testigos y acceso a sus interrogatorios"
   ]
  },
  {
   "cell_type": "code",
   "execution_count": 4,
   "metadata": {},
   "outputs": [
    {
     "data": {
      "text/html": [
       "<div>\n",
       "<style scoped>\n",
       "    .dataframe tbody tr th:only-of-type {\n",
       "        vertical-align: middle;\n",
       "    }\n",
       "\n",
       "    .dataframe tbody tr th {\n",
       "        vertical-align: top;\n",
       "    }\n",
       "\n",
       "    .dataframe thead th {\n",
       "        text-align: right;\n",
       "    }\n",
       "</style>\n",
       "<table border=\"1\" class=\"dataframe\">\n",
       "  <thead>\n",
       "    <tr style=\"text-align: right;\">\n",
       "      <th></th>\n",
       "      <th>id</th>\n",
       "      <th>name</th>\n",
       "      <th>address_street_name</th>\n",
       "      <th>address_number</th>\n",
       "      <th>transcript</th>\n",
       "    </tr>\n",
       "  </thead>\n",
       "  <tbody>\n",
       "    <tr>\n",
       "      <th>0</th>\n",
       "      <td>14887</td>\n",
       "      <td>Morty Schapiro</td>\n",
       "      <td>Northwestern Dr</td>\n",
       "      <td>4919</td>\n",
       "      <td>I heard a gunshot and then saw a man run out. ...</td>\n",
       "    </tr>\n",
       "    <tr>\n",
       "      <th>1</th>\n",
       "      <td>16371</td>\n",
       "      <td>Annabel Miller</td>\n",
       "      <td>Franklin Ave</td>\n",
       "      <td>103</td>\n",
       "      <td>I saw the murder happen, and I recognized the ...</td>\n",
       "    </tr>\n",
       "  </tbody>\n",
       "</table>\n",
       "</div>"
      ],
      "text/plain": [
       "      id            name address_street_name  address_number  \\\n",
       "0  14887  Morty Schapiro     Northwestern Dr            4919   \n",
       "1  16371  Annabel Miller        Franklin Ave             103   \n",
       "\n",
       "                                          transcript  \n",
       "0  I heard a gunshot and then saw a man run out. ...  \n",
       "1  I saw the murder happen, and I recognized the ...  "
      ]
     },
     "execution_count": 4,
     "metadata": {},
     "output_type": "execute_result"
    }
   ],
   "source": [
    "query = '''\n",
    "SELECT \n",
    "\tperson.id, \n",
    "\tperson.name,\n",
    "\tperson.address_street_name,\n",
    "\tperson.address_number,\n",
    "\tinterview.transcript\n",
    "FROM person\n",
    "JOIN interview ON person.id = interview.person_id\n",
    "WHERE address_street_name ='Northwestern Dr' -- Testigo 1: vive en la última casa (MAX()) de la calle Northwestern Dr\n",
    "AND address_number = (SELECT MAX(address_number) FROM person WHERE address_street_name ='Northwestern Dr')\n",
    "OR address_street_name = 'Franklin Ave' -- Testigo 2: viven en la calle Franklin Ave y su nombre es 'Annabel', no sabemos su apellido\n",
    "AND name LIKE 'Annabel%'\n",
    "'''\n",
    "sql_query(query)"
   ]
  },
  {
   "cell_type": "markdown",
   "metadata": {},
   "source": [
    "### 3. Encontrar al asesino"
   ]
  },
  {
   "cell_type": "code",
   "execution_count": 9,
   "metadata": {},
   "outputs": [
    {
     "data": {
      "text/html": [
       "<div>\n",
       "<style scoped>\n",
       "    .dataframe tbody tr th:only-of-type {\n",
       "        vertical-align: middle;\n",
       "    }\n",
       "\n",
       "    .dataframe tbody tr th {\n",
       "        vertical-align: top;\n",
       "    }\n",
       "\n",
       "    .dataframe thead th {\n",
       "        text-align: right;\n",
       "    }\n",
       "</style>\n",
       "<table border=\"1\" class=\"dataframe\">\n",
       "  <thead>\n",
       "    <tr style=\"text-align: right;\">\n",
       "      <th></th>\n",
       "      <th>id</th>\n",
       "      <th>name</th>\n",
       "      <th>license_id</th>\n",
       "      <th>plate_number</th>\n",
       "      <th>id</th>\n",
       "      <th>check_in_date</th>\n",
       "      <th>check_in_time</th>\n",
       "      <th>check_out_time</th>\n",
       "    </tr>\n",
       "  </thead>\n",
       "  <tbody>\n",
       "    <tr>\n",
       "      <th>0</th>\n",
       "      <td>67318</td>\n",
       "      <td>Jeremy Bowers</td>\n",
       "      <td>423327</td>\n",
       "      <td>0H42W2</td>\n",
       "      <td>48Z55</td>\n",
       "      <td>20180109</td>\n",
       "      <td>1530</td>\n",
       "      <td>1700</td>\n",
       "    </tr>\n",
       "    <tr>\n",
       "      <th>1</th>\n",
       "      <td>16371</td>\n",
       "      <td>Annabel Miller</td>\n",
       "      <td>490173</td>\n",
       "      <td>23AM98</td>\n",
       "      <td>90081</td>\n",
       "      <td>20180109</td>\n",
       "      <td>1600</td>\n",
       "      <td>1700</td>\n",
       "    </tr>\n",
       "  </tbody>\n",
       "</table>\n",
       "</div>"
      ],
      "text/plain": [
       "      id            name  license_id plate_number     id  check_in_date  \\\n",
       "0  67318   Jeremy Bowers      423327       0H42W2  48Z55       20180109   \n",
       "1  16371  Annabel Miller      490173       23AM98  90081       20180109   \n",
       "\n",
       "   check_in_time  check_out_time  \n",
       "0           1530            1700  \n",
       "1           1600            1700  "
      ]
     },
     "execution_count": 9,
     "metadata": {},
     "output_type": "execute_result"
    }
   ],
   "source": [
    "query = '''\n",
    "SELECT \n",
    "\tperson.id, person.name, person.license_id, \n",
    "\tdrivers_license.plate_number,\n",
    "\tget_fit_now_member.id,\n",
    "\tget_fit_now_check_in.check_in_date,\n",
    "\tget_fit_now_check_in.check_in_time,\n",
    "\tget_fit_now_check_in.check_out_time\n",
    "FROM person\n",
    "JOIN drivers_license ON person.license_id = drivers_license.id\n",
    "JOIN get_fit_now_member ON person.id = get_fit_now_member.person_id\n",
    "JOIN get_fit_now_check_in ON get_fit_now_member.id = get_fit_now_check_in.membership_id\n",
    "WHERE plate_number LIKE '%H42W%' -- Tiene una matrícula como la que dice Morty\n",
    "AND membership_id LIKE '48Z%' -- Tiene suscripción al gimnasio que empieza por 48Z\n",
    "AND membership_status = 'gold' -- Miembro gold\n",
    "OR person_id = 16371 -- Coincide con Annabel en el gimnasio\n",
    "'''\n",
    "\n",
    "sql_query(query)"
   ]
  },
  {
   "cell_type": "markdown",
   "metadata": {},
   "source": [
    "### 4. Interrogatorio del primer asesino e información sobre el verdadero cerebro"
   ]
  },
  {
   "cell_type": "code",
   "execution_count": 10,
   "metadata": {},
   "outputs": [
    {
     "data": {
      "text/html": [
       "<div>\n",
       "<style scoped>\n",
       "    .dataframe tbody tr th:only-of-type {\n",
       "        vertical-align: middle;\n",
       "    }\n",
       "\n",
       "    .dataframe tbody tr th {\n",
       "        vertical-align: top;\n",
       "    }\n",
       "\n",
       "    .dataframe thead th {\n",
       "        text-align: right;\n",
       "    }\n",
       "</style>\n",
       "<table border=\"1\" class=\"dataframe\">\n",
       "  <thead>\n",
       "    <tr style=\"text-align: right;\">\n",
       "      <th></th>\n",
       "      <th>person_id</th>\n",
       "      <th>transcript</th>\n",
       "    </tr>\n",
       "  </thead>\n",
       "  <tbody>\n",
       "    <tr>\n",
       "      <th>0</th>\n",
       "      <td>67318</td>\n",
       "      <td>I was hired by a woman with a lot of money. I ...</td>\n",
       "    </tr>\n",
       "  </tbody>\n",
       "</table>\n",
       "</div>"
      ],
      "text/plain": [
       "   person_id                                         transcript\n",
       "0      67318  I was hired by a woman with a lot of money. I ..."
      ]
     },
     "execution_count": 10,
     "metadata": {},
     "output_type": "execute_result"
    }
   ],
   "source": [
    "query = '''\n",
    "SELECT * FROM interview\n",
    "WHERE person_id = 67318\n",
    "'''\n",
    "sql_query(query)"
   ]
  },
  {
   "cell_type": "markdown",
   "metadata": {},
   "source": [
    "### 5. Identificación del verdadero asesino"
   ]
  },
  {
   "cell_type": "code",
   "execution_count": 11,
   "metadata": {},
   "outputs": [
    {
     "data": {
      "text/html": [
       "<div>\n",
       "<style scoped>\n",
       "    .dataframe tbody tr th:only-of-type {\n",
       "        vertical-align: middle;\n",
       "    }\n",
       "\n",
       "    .dataframe tbody tr th {\n",
       "        vertical-align: top;\n",
       "    }\n",
       "\n",
       "    .dataframe thead th {\n",
       "        text-align: right;\n",
       "    }\n",
       "</style>\n",
       "<table border=\"1\" class=\"dataframe\">\n",
       "  <thead>\n",
       "    <tr style=\"text-align: right;\">\n",
       "      <th></th>\n",
       "      <th>id</th>\n",
       "      <th>name</th>\n",
       "      <th>height</th>\n",
       "      <th>hair_color</th>\n",
       "      <th>car_make</th>\n",
       "      <th>car_model</th>\n",
       "      <th>annual_income</th>\n",
       "    </tr>\n",
       "  </thead>\n",
       "  <tbody>\n",
       "    <tr>\n",
       "      <th>0</th>\n",
       "      <td>99716</td>\n",
       "      <td>Miranda Priestly</td>\n",
       "      <td>66</td>\n",
       "      <td>red</td>\n",
       "      <td>Tesla</td>\n",
       "      <td>Model S</td>\n",
       "      <td>310000</td>\n",
       "    </tr>\n",
       "  </tbody>\n",
       "</table>\n",
       "</div>"
      ],
      "text/plain": [
       "      id              name  height hair_color car_make car_model  \\\n",
       "0  99716  Miranda Priestly      66        red    Tesla   Model S   \n",
       "\n",
       "   annual_income  \n",
       "0         310000  "
      ]
     },
     "execution_count": 11,
     "metadata": {},
     "output_type": "execute_result"
    }
   ],
   "source": [
    "query = '''\n",
    "SELECT \n",
    "\tperson.id,\n",
    "\tperson.name,\n",
    "\tdrivers_license.height,\n",
    "\tdrivers_license.hair_color,\n",
    "\tdrivers_license.car_make,\n",
    "\tdrivers_license.car_model,\n",
    "\tincome.annual_income\n",
    "FROM person\n",
    "JOIN drivers_license ON person.license_id = drivers_license.id\n",
    "JOIN income ON person.ssn = income.ssn\n",
    "JOIN facebook_event_checkin ON person.id = facebook_event_checkin.person_id\n",
    "WHERE height BETWEEN 65 AND 67 -- Altura entre 5'5\" y 5'6\"\n",
    "AND hair_color = 'red' -- Pelirroja\n",
    "AND car_make = 'Tesla' -- Marca del coche\n",
    "AND car_model = 'Model S' -- Modelo del coche\n",
    "AND date BETWEEN 20171201 AND 20171231 -- Asiste 3 veces al SQL Symphony Concert en diciembre 2017\n",
    "AND event_name = 'SQL Symphony Concert'\n",
    "GROUP BY person_id\n",
    "HAVING COUNT(person_id) = 3\n",
    "'''\n",
    "\n",
    "sql_query(query)"
   ]
  },
  {
   "cell_type": "code",
   "execution_count": null,
   "metadata": {},
   "outputs": [],
   "source": []
  }
 ],
 "metadata": {
  "kernelspec": {
   "display_name": "Python 3.12.4 (venv)",
   "language": "python",
   "name": "kernel_python3124"
  },
  "language_info": {
   "codemirror_mode": {
    "name": "ipython",
    "version": 3
   },
   "file_extension": ".py",
   "mimetype": "text/x-python",
   "name": "python",
   "nbconvert_exporter": "python",
   "pygments_lexer": "ipython3",
   "version": "3.12.4"
  }
 },
 "nbformat": 4,
 "nbformat_minor": 2
}
