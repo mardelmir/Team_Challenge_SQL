{
    "cells": [
     {
      "cell_type": "markdown",
      "metadata": {},
      "source": [
       "SELECT *  \n",
       "FROM crime_scene_report  \n",
       "where type = 'murder' and city = 'SQL City' and date = '20180115'\n",
       "\n",
       "Security footage shows that there were 2 witnesses. The first witness lives at the last house on \"Northwestern Dr\". The second witness, named Annabel, lives somewhere on \"Franklin Ave\".\t"
      ]
     },
     {
      "cell_type": "markdown",
      "metadata": {},
      "source": [
       "select *   \n",
       "from person  \n",
       "where address_street_name = 'Northwestern Dr'  \n",
       "order by address_number desc\n",
       "\n",
       "14887\tMorty Schapiro\t118009\t4919\tNorthwestern Dr\t111564949\n",
       "\n",
       "select transcript   \n",
       "from interview  \n",
       "where person_id = '14887'\n",
       "\n",
       "I heard a gunshot and then saw a man run out. He had a \"Get Fit Now Gym\" bag. The membership number on the bag started with \"48Z\". Only gold members have those bags. The man got into a car with a plate that included \"H42W\".\n",
       "\n",
       "select name, person_id, membership_status \n",
       "from get_fit_now_member  \n",
       "where person_id like '48%'\n",
       "\n",
       "Cruz Ewings\t48557\tsilver\n",
       "Jarred Newenle\t48466\tregular"
      ]
     },
     {
      "cell_type": "markdown",
      "metadata": {},
      "source": [
       "select *   \n",
       "from person  \n",
       "where address_street_name = 'Franklin Ave'\n",
       "order by name asc\n",
       "\n",
       "16371\tAnnabel Miller\t490173\t103\tFranklin Ave\t318771143\n",
       "\n",
       "I saw the murder happen, and I recognized the killer from my gym when I was working out last week on January the 9th.\n",
       "\n",
       "SELECT \n",
       "    a.membership_id, \n",
       "    a.check_in_date, \n",
       "    a.check_in_time, \n",
       "    a.check_out_time, \n",
       "    b.id AS member_id, \n",
       "    b.person_id, \n",
       "    b.name AS member_name, \n",
       "    c.id AS person_id, \n",
       "    c.name AS person_name, \n",
       "    d.plate_number, \n",
       "    d.id AS license_id\n",
       "FROM \n",
       "    get_fit_now_check_in AS a\n",
       "INNER JOIN \n",
       "    get_fit_now_member AS b ON a.membership_id = b.id\n",
       "INNER JOIN \n",
       "    person AS c ON b.person_id = c.id\n",
       "INNER JOIN \n",
       "    drivers_license AS d ON c.license_id = d.id\n",
       "WHERE \n",
       "    a.check_in_date = '20180109';\n",
       "\n",
       "48Z55\t20180109\t1530\t1700\t48Z55\t67318\tJeremy Bowers\t67318\tJeremy Bowers\t0H42W2\t423327\n",
       "90081\t20180109\t1600\t1700\t90081\t16371\tAnnabel Miller\t16371\tAnnabel Miller\t23AM98\t490173\n",
       "\n",
       "Jeremy Bowers\n",
       "\n",
       "Congrats, you found the murderer! But wait, there's more... If you think you're up for a challenge, try querying the interview transcript of the murderer to find the real villain behind this crime. If you feel especially confident in your SQL skills, try to complete this final step with no more than 2 queries. Use this same INSERT statement with your new suspect to check your answer.\n",
       "\n",
       "SELECT transcript\n",
       "from interview\n",
       "where person_id = '67318'\n",
       "\n",
       "I was hired by a woman with a lot of money. I don't know her name but I know she's around 5'5\" (65\") or 5'7\" (67\"). She has red hair and she drives a Tesla Model S. I know that she attended the SQL Symphony Concert 3 times in December 2017.\n",
       "\n",
       "where hair_color = 'red' and car_make = 'Tesla' and car_model = 'Model S'\n",
       "\n",
       "SELECT b.name\n",
       "from drivers_license a\n",
       "inner join person as b on a.id = b.license_id\n",
       "inner join facebook_event_checkin as c on b.id = c.person_id\n",
       "where a.hair_color = 'red' and a.car_make = 'Tesla' and a.car_model = 'Model S' and c.event_name = 'SQL Symphony Concert'\n",
       "\n",
       "Miranda Priestly\n",
       "\n",
       "Congrats, you found the brains behind the murder! Everyone in SQL City hails you as the greatest SQL detective of all time. Time to break out the champagne!"
      ]
     }
    ],
    "metadata": {
     "language_info": {
      "name": "python"
     }
    },
    "nbformat": 4,
    "nbformat_minor": 2
   }