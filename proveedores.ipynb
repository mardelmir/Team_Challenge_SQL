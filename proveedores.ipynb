{
 "cells": [
  {
   "cell_type": "markdown",
   "metadata": {},
   "source": [
    "## **TABLAS**\n",
    "1. proveedores\n",
    "* proveedor_id (INT, PRIMARY KEY, AUTO_INCREMENT)\n",
    "* nombre (TEXT)\n",
    "* direccion (TEXT)\n",
    "* ciudad (TEXT)\n",
    "* provincia (TEXT)\n",
    "* codigo_proveedor (TEXT, UNIQUE)\n",
    "\n",
    "2. categorias\n",
    "* categoria_id (INT, PRIMARY KEY, AUTO_INCREMENT)\n",
    "* nombre (TEXT)\n",
    "* codigo_categoria (TEXT, UNIQUE)\n",
    "\n",
    "3. piezas\n",
    "* pieza_id (INT, PRIMARY KEY, AUTO_INCREMENT)\n",
    "* codigo_pieza (TEXT, UNIQUE)\n",
    "* nombre (TEXT)\n",
    "* color (TEXT)\n",
    "* precio (FLOAT)\n",
    "* categoria_id (INT, FOREIGN KEY, REF: categorias(categoria_id))\n",
    "\n",
    "4. suministros\n",
    "* suministro_id (INT, PRIMARY KEY, AUTO_INCREMENT)\n",
    "* proveedor_id (INT, FOREIGN KEY, REF: proveedores(proveedor_id))\n",
    "* pieza_id (INT, FOREIGN KEY, REF: piezas(pieza_id))\n",
    "* fecha (DATE)\n",
    "* cantidad (INT)"
   ]
  },
  {
   "cell_type": "markdown",
   "metadata": {},
   "source": [
    "## **RELACIONES**\n",
    "\n",
    "1. Proveedores pueden suministrar varias piezas en diferentes fechas, asi que existe una relacion ***1 to many*** between **proveedores** y **suministros**.\n",
    "\n",
    "2. Una pieza puede ser suministrada por varios proveedores, asi que existe una relacion ***1 to many*** entre **piezas** y **suministros**.\n",
    "Un proveedor puede suministrar varias piezas también --> relación **N:M**\n",
    "\n",
    "3. Cada pieza pertenece a una categoria, asi que existe una relacion ***1 to many*** entre **categorias** y **piezas**.\n",
    "\n",
    "4. Suministros **N:M**\n",
    "\n",
    "Tablas de proveedores y categorías quedan en los extremos, suministros y piezas quedan en medio.\n"
   ]
  },
  {
   "cell_type": "code",
   "execution_count": 1,
   "metadata": {},
   "outputs": [],
   "source": [
    "import pandas as pd\n",
    "import sqlite3\n",
    "from datetime import date"
   ]
  },
  {
   "cell_type": "code",
   "execution_count": 2,
   "metadata": {},
   "outputs": [],
   "source": [
    "conn = sqlite3.connect('./data/proveedores_piezas.db')\n",
    "cursor = conn.cursor()"
   ]
  },
  {
   "cell_type": "code",
   "execution_count": 3,
   "metadata": {},
   "outputs": [],
   "source": [
    "def sqlq(query, conn):\n",
    "    return pd.read_sql(query, conn)"
   ]
  },
  {
   "cell_type": "code",
   "execution_count": 4,
   "metadata": {},
   "outputs": [],
   "source": [
    "cursor.execute(\"SELECT name FROM sqlite_master WHERE type='table' AND name != 'sqlite_sequence'\")\n",
    "tables = cursor.fetchall()\n",
    "\n",
    "for table_name in tables:\n",
    "    cursor.execute(f\"DROP TABLE IF EXISTS {table_name[0]}\")\n",
    "\n",
    "conn.commit()\n",
    "# conn.close()"
   ]
  },
  {
   "cell_type": "code",
   "execution_count": 5,
   "metadata": {},
   "outputs": [
    {
     "data": {
      "text/html": [
       "<div>\n",
       "<style scoped>\n",
       "    .dataframe tbody tr th:only-of-type {\n",
       "        vertical-align: middle;\n",
       "    }\n",
       "\n",
       "    .dataframe tbody tr th {\n",
       "        vertical-align: top;\n",
       "    }\n",
       "\n",
       "    .dataframe thead th {\n",
       "        text-align: right;\n",
       "    }\n",
       "</style>\n",
       "<table border=\"1\" class=\"dataframe\">\n",
       "  <thead>\n",
       "    <tr style=\"text-align: right;\">\n",
       "      <th></th>\n",
       "      <th>name</th>\n",
       "    </tr>\n",
       "  </thead>\n",
       "  <tbody>\n",
       "  </tbody>\n",
       "</table>\n",
       "</div>"
      ],
      "text/plain": [
       "Empty DataFrame\n",
       "Columns: [name]\n",
       "Index: []"
      ]
     },
     "execution_count": 5,
     "metadata": {},
     "output_type": "execute_result"
    }
   ],
   "source": [
    "sqlq(\"SELECT name FROM sqlite_master Where type='table'\", conn)"
   ]
  },
  {
   "cell_type": "code",
   "execution_count": 6,
   "metadata": {},
   "outputs": [
    {
     "data": {
      "text/plain": [
       "<sqlite3.Cursor at 0x10a1795c0>"
      ]
     },
     "execution_count": 6,
     "metadata": {},
     "output_type": "execute_result"
    }
   ],
   "source": [
    "cursor.execute(''' \n",
    "CREATE TABLE IF NOT EXISTS proveedores (\n",
    "    proveedor_id INTEGER PRIMARY KEY AUTOINCREMENT,\n",
    "    nombre TEXT NOT NULL,\n",
    "    direccion TEXT,\n",
    "    ciudad TEXT,\n",
    "    provincia TEXT,\n",
    "    codigo_proveedor TEXT UNIQUE NOT NULL\n",
    ")\n",
    "''')"
   ]
  },
  {
   "cell_type": "code",
   "execution_count": 7,
   "metadata": {},
   "outputs": [
    {
     "data": {
      "text/plain": [
       "<sqlite3.Cursor at 0x10a1795c0>"
      ]
     },
     "execution_count": 7,
     "metadata": {},
     "output_type": "execute_result"
    }
   ],
   "source": [
    "prov_data = [\n",
    "    ('Proveedor A', 'Calle Madrid', 'Madrid', 'Madrid', 'PROV1'),\n",
    "    ('Proveedor B', 'Calle Barna', 'Barcelona', 'Barcelona', 'PROV2'),\n",
    "    ('Proveedor C', 'Calle San Pío X', 'Valencia', 'Valencia', 'PROV3'),\n",
    "    ('Proveedor D', 'Calle Estafeta', 'Pamplona', 'Navarra', 'PROV4'),\n",
    "    ('Proveedor E', 'Calle Laurel', 'Logroño', 'Logroño', 'PROV5')\n",
    "]\n",
    "cursor.executemany(''' \n",
    "INSERT INTO proveedores (nombre, direccion, ciudad, provincia, codigo_proveedor)\n",
    "VALUES (?,?,?,?,?)\n",
    "''', prov_data)"
   ]
  },
  {
   "cell_type": "code",
   "execution_count": 8,
   "metadata": {},
   "outputs": [
    {
     "data": {
      "text/html": [
       "<div>\n",
       "<style scoped>\n",
       "    .dataframe tbody tr th:only-of-type {\n",
       "        vertical-align: middle;\n",
       "    }\n",
       "\n",
       "    .dataframe tbody tr th {\n",
       "        vertical-align: top;\n",
       "    }\n",
       "\n",
       "    .dataframe thead th {\n",
       "        text-align: right;\n",
       "    }\n",
       "</style>\n",
       "<table border=\"1\" class=\"dataframe\">\n",
       "  <thead>\n",
       "    <tr style=\"text-align: right;\">\n",
       "      <th></th>\n",
       "      <th>proveedor_id</th>\n",
       "      <th>nombre</th>\n",
       "      <th>direccion</th>\n",
       "      <th>ciudad</th>\n",
       "      <th>provincia</th>\n",
       "      <th>codigo_proveedor</th>\n",
       "    </tr>\n",
       "  </thead>\n",
       "  <tbody>\n",
       "    <tr>\n",
       "      <th>0</th>\n",
       "      <td>1</td>\n",
       "      <td>Proveedor A</td>\n",
       "      <td>Calle Madrid</td>\n",
       "      <td>Madrid</td>\n",
       "      <td>Madrid</td>\n",
       "      <td>PROV1</td>\n",
       "    </tr>\n",
       "    <tr>\n",
       "      <th>1</th>\n",
       "      <td>2</td>\n",
       "      <td>Proveedor B</td>\n",
       "      <td>Calle Barna</td>\n",
       "      <td>Barcelona</td>\n",
       "      <td>Barcelona</td>\n",
       "      <td>PROV2</td>\n",
       "    </tr>\n",
       "  </tbody>\n",
       "</table>\n",
       "</div>"
      ],
      "text/plain": [
       "   proveedor_id       nombre     direccion     ciudad  provincia  \\\n",
       "0             1  Proveedor A  Calle Madrid     Madrid     Madrid   \n",
       "1             2  Proveedor B   Calle Barna  Barcelona  Barcelona   \n",
       "\n",
       "  codigo_proveedor  \n",
       "0            PROV1  \n",
       "1            PROV2  "
      ]
     },
     "execution_count": 8,
     "metadata": {},
     "output_type": "execute_result"
    }
   ],
   "source": [
    "sqlq(\"SELECT * FROM proveedores\", conn)"
   ]
  },
  {
   "cell_type": "code",
   "execution_count": 9,
   "metadata": {},
   "outputs": [
    {
     "data": {
      "text/plain": [
       "<sqlite3.Cursor at 0x10a1795c0>"
      ]
     },
     "execution_count": 9,
     "metadata": {},
     "output_type": "execute_result"
    }
   ],
   "source": [
    "cursor.execute('''\n",
    "CREATE TABLE IF NOT EXISTS categorias (\n",
    "    categoria_id INTEGER PRIMARY KEY AUTOINCREMENT,\n",
    "    nombre TEXT NOT NULL,\n",
    "    codigo_categoria TEXT UNIQUE NOT NULL\n",
    ")\n",
    "''')"
   ]
  },
  {
   "cell_type": "code",
   "execution_count": 10,
   "metadata": {},
   "outputs": [
    {
     "data": {
      "text/plain": [
       "<sqlite3.Cursor at 0x10a1795c0>"
      ]
     },
     "execution_count": 10,
     "metadata": {},
     "output_type": "execute_result"
    }
   ],
   "source": [
    "cat_data = [\n",
    "    ('Vino', '001'),\n",
    "    ('Distillado', '002')\n",
    "]\n",
    "cursor.executemany('''\n",
    "INSERT INTO categorias (nombre, codigo_categoria)\n",
    "VALUES (?,?)\n",
    "''', cat_data)"
   ]
  },
  {
   "cell_type": "code",
   "execution_count": 11,
   "metadata": {},
   "outputs": [
    {
     "data": {
      "text/html": [
       "<div>\n",
       "<style scoped>\n",
       "    .dataframe tbody tr th:only-of-type {\n",
       "        vertical-align: middle;\n",
       "    }\n",
       "\n",
       "    .dataframe tbody tr th {\n",
       "        vertical-align: top;\n",
       "    }\n",
       "\n",
       "    .dataframe thead th {\n",
       "        text-align: right;\n",
       "    }\n",
       "</style>\n",
       "<table border=\"1\" class=\"dataframe\">\n",
       "  <thead>\n",
       "    <tr style=\"text-align: right;\">\n",
       "      <th></th>\n",
       "      <th>categoria_id</th>\n",
       "      <th>nombre</th>\n",
       "      <th>codigo_categoria</th>\n",
       "    </tr>\n",
       "  </thead>\n",
       "  <tbody>\n",
       "    <tr>\n",
       "      <th>0</th>\n",
       "      <td>1</td>\n",
       "      <td>Vino</td>\n",
       "      <td>001</td>\n",
       "    </tr>\n",
       "    <tr>\n",
       "      <th>1</th>\n",
       "      <td>2</td>\n",
       "      <td>Distillado</td>\n",
       "      <td>002</td>\n",
       "    </tr>\n",
       "  </tbody>\n",
       "</table>\n",
       "</div>"
      ],
      "text/plain": [
       "   categoria_id      nombre codigo_categoria\n",
       "0             1        Vino              001\n",
       "1             2  Distillado              002"
      ]
     },
     "execution_count": 11,
     "metadata": {},
     "output_type": "execute_result"
    }
   ],
   "source": [
    "sqlq(\"SELECT * FROM categorias\", conn)"
   ]
  },
  {
   "cell_type": "code",
   "execution_count": 12,
   "metadata": {},
   "outputs": [
    {
     "data": {
      "text/plain": [
       "<sqlite3.Cursor at 0x10a1795c0>"
      ]
     },
     "execution_count": 12,
     "metadata": {},
     "output_type": "execute_result"
    }
   ],
   "source": [
    "cursor.execute('''\n",
    "CREATE TABLE IF NOT EXISTS piezas (\n",
    "    pieza_id INTEGER PRIMARY KEY AUTOINCREMENT,\n",
    "    codigo_pieza TEXT UNIQUE NOT NULL,\n",
    "    nombre TEXT NOT NULL,\n",
    "    color TEXT,\n",
    "    precio FLOAT,\n",
    "    categoria_id INTEGER,\n",
    "    FOREIGN KEY (categoria_id) REFERENCES categorias(categoria_id)\n",
    ")\n",
    "''')"
   ]
  },
  {
   "cell_type": "code",
   "execution_count": 13,
   "metadata": {},
   "outputs": [
    {
     "data": {
      "text/plain": [
       "<sqlite3.Cursor at 0x10a1795c0>"
      ]
     },
     "execution_count": 13,
     "metadata": {},
     "output_type": "execute_result"
    }
   ],
   "source": [
    "pieza_data = [\n",
    "    ('P1', 'Sotovelo', 'Blanco', 20.50, '001'),\n",
    "    ('P2', '10 Mil Botellas', 'Ambar', 80.70, '002'),\n",
    "    ('P2', 'Domus Aurea', 'Tinto', 15.50, '001'),\n",
    "    ('P2', 'Mar de Frades', 'Blanco', 20.50, '002'),\n",
    "    ('P2', 'Ron Havana Selección de Maestros', 'Ambar', 65.50, '001')\n",
    "\n",
    "]\n",
    "cursor.executemany(''' \n",
    "INSERT INTO piezas (codigo_pieza, nombre, color, precio, categoria_id)\n",
    "VALUES (?,?,?,?,?)\n",
    "''', pieza_data)"
   ]
  },
  {
   "cell_type": "code",
   "execution_count": 14,
   "metadata": {},
   "outputs": [
    {
     "data": {
      "text/html": [
       "<div>\n",
       "<style scoped>\n",
       "    .dataframe tbody tr th:only-of-type {\n",
       "        vertical-align: middle;\n",
       "    }\n",
       "\n",
       "    .dataframe tbody tr th {\n",
       "        vertical-align: top;\n",
       "    }\n",
       "\n",
       "    .dataframe thead th {\n",
       "        text-align: right;\n",
       "    }\n",
       "</style>\n",
       "<table border=\"1\" class=\"dataframe\">\n",
       "  <thead>\n",
       "    <tr style=\"text-align: right;\">\n",
       "      <th></th>\n",
       "      <th>pieza_id</th>\n",
       "      <th>codigo_pieza</th>\n",
       "      <th>nombre</th>\n",
       "      <th>color</th>\n",
       "      <th>precio</th>\n",
       "      <th>categoria_id</th>\n",
       "    </tr>\n",
       "  </thead>\n",
       "  <tbody>\n",
       "    <tr>\n",
       "      <th>0</th>\n",
       "      <td>1</td>\n",
       "      <td>P1</td>\n",
       "      <td>Sotovelo</td>\n",
       "      <td>Blanco</td>\n",
       "      <td>20.5</td>\n",
       "      <td>1</td>\n",
       "    </tr>\n",
       "    <tr>\n",
       "      <th>1</th>\n",
       "      <td>2</td>\n",
       "      <td>P2</td>\n",
       "      <td>10 Mil Botellas</td>\n",
       "      <td>Ambar</td>\n",
       "      <td>80.7</td>\n",
       "      <td>2</td>\n",
       "    </tr>\n",
       "  </tbody>\n",
       "</table>\n",
       "</div>"
      ],
      "text/plain": [
       "   pieza_id codigo_pieza           nombre   color  precio  categoria_id\n",
       "0         1           P1         Sotovelo  Blanco    20.5             1\n",
       "1         2           P2  10 Mil Botellas   Ambar    80.7             2"
      ]
     },
     "execution_count": 14,
     "metadata": {},
     "output_type": "execute_result"
    }
   ],
   "source": [
    "sqlq(\"SELECT * FROM piezas\", conn)"
   ]
  },
  {
   "cell_type": "code",
   "execution_count": 21,
   "metadata": {},
   "outputs": [
    {
     "ename": "OperationalError",
     "evalue": "near \"ON\": syntax error",
     "output_type": "error",
     "traceback": [
      "\u001b[0;31m---------------------------------------------------------------------------\u001b[0m",
      "\u001b[0;31mOperationalError\u001b[0m                          Traceback (most recent call last)",
      "Cell \u001b[0;32mIn[21], line 1\u001b[0m\n\u001b[0;32m----> 1\u001b[0m \u001b[43mcursor\u001b[49m\u001b[38;5;241;43m.\u001b[39;49m\u001b[43mexecute\u001b[49m\u001b[43m(\u001b[49m\u001b[38;5;124;43m'''\u001b[39;49m\n\u001b[1;32m      2\u001b[0m \u001b[38;5;124;43mCREATE TABLE IF NOT EXISTS suministros (\u001b[39;49m\n\u001b[1;32m      3\u001b[0m \u001b[38;5;124;43m    suminstros_id INTEGER PRIMARY KEY AUTOINCREMENT,\u001b[39;49m\n\u001b[1;32m      4\u001b[0m \u001b[38;5;124;43m    proveedor_id INTEGER,\u001b[39;49m\n\u001b[1;32m      5\u001b[0m \u001b[38;5;124;43m    pieza_id INTEGER,\u001b[39;49m\n\u001b[1;32m      6\u001b[0m \u001b[38;5;124;43m    fecha DATETIME DEFAULT ON UPDATE,\u001b[39;49m\n\u001b[1;32m      7\u001b[0m \u001b[38;5;124;43m    cantidad INTEGER NOT NULL,\u001b[39;49m\n\u001b[1;32m      8\u001b[0m \u001b[38;5;124;43m    FOREIGN KEY (proveedor_id) REFERENCES proveedores(proveedor_id)\u001b[39;49m\n\u001b[1;32m      9\u001b[0m \u001b[38;5;124;43m    FOREIGN KEY (pieza_id) REFERENCES piezas(pieza_id) \u001b[39;49m\n\u001b[1;32m     10\u001b[0m \u001b[38;5;124;43m)\u001b[39;49m\n\u001b[1;32m     11\u001b[0m \u001b[38;5;124;43m'''\u001b[39;49m\u001b[43m)\u001b[49m\n",
      "\u001b[0;31mOperationalError\u001b[0m: near \"ON\": syntax error"
     ]
    }
   ],
   "source": [
    "cursor.execute('''\n",
    "CREATE TABLE IF NOT EXISTS suministros (\n",
    "    suminstros_id INTEGER PRIMARY KEY AUTOINCREMENT,\n",
    "    proveedor_id INTEGER,\n",
    "    pieza_id INTEGER,\n",
    "    fecha DATETIME DEFAULT ON UPDATE,\n",
    "    cantidad INTEGER NOT NULL,\n",
    "    FOREIGN KEY (proveedor_id) REFERENCES proveedores(proveedor_id)\n",
    "    FOREIGN KEY (pieza_id) REFERENCES piezas(pieza_id) \n",
    ")\n",
    "''')"
   ]
  },
  {
   "cell_type": "code",
   "execution_count": null,
   "metadata": {},
   "outputs": [
    {
     "data": {
      "text/plain": [
       "<sqlite3.Cursor at 0x119584bc0>"
      ]
     },
     "execution_count": 39,
     "metadata": {},
     "output_type": "execute_result"
    }
   ],
   "source": [
    "sumin_data = [\n",
    "    (1, 1, '2024-07-01', 120),\n",
    "    (2, 2, '2024-07-02', 30)\n",
    "]\n",
    "cursor.executemany('''\n",
    "INSERT INTO suministros (proveedor_id, pieza_id, fecha, cantidad)\n",
    "VALUES (?,?,?,?)\n",
    "''', sumin_data)"
   ]
  },
  {
   "cell_type": "code",
   "execution_count": null,
   "metadata": {},
   "outputs": [
    {
     "data": {
      "text/html": [
       "<div>\n",
       "<style scoped>\n",
       "    .dataframe tbody tr th:only-of-type {\n",
       "        vertical-align: middle;\n",
       "    }\n",
       "\n",
       "    .dataframe tbody tr th {\n",
       "        vertical-align: top;\n",
       "    }\n",
       "\n",
       "    .dataframe thead th {\n",
       "        text-align: right;\n",
       "    }\n",
       "</style>\n",
       "<table border=\"1\" class=\"dataframe\">\n",
       "  <thead>\n",
       "    <tr style=\"text-align: right;\">\n",
       "      <th></th>\n",
       "      <th>suminstros_id</th>\n",
       "      <th>proveedor_id</th>\n",
       "      <th>pieza_id</th>\n",
       "      <th>fecha</th>\n",
       "      <th>cantidad</th>\n",
       "    </tr>\n",
       "  </thead>\n",
       "  <tbody>\n",
       "    <tr>\n",
       "      <th>0</th>\n",
       "      <td>1</td>\n",
       "      <td>1</td>\n",
       "      <td>1</td>\n",
       "      <td>2024-07-01</td>\n",
       "      <td>120</td>\n",
       "    </tr>\n",
       "    <tr>\n",
       "      <th>1</th>\n",
       "      <td>2</td>\n",
       "      <td>2</td>\n",
       "      <td>2</td>\n",
       "      <td>2024-07-02</td>\n",
       "      <td>30</td>\n",
       "    </tr>\n",
       "  </tbody>\n",
       "</table>\n",
       "</div>"
      ],
      "text/plain": [
       "   suminstros_id  proveedor_id  pieza_id       fecha  cantidad\n",
       "0              1             1         1  2024-07-01       120\n",
       "1              2             2         2  2024-07-02        30"
      ]
     },
     "execution_count": 40,
     "metadata": {},
     "output_type": "execute_result"
    }
   ],
   "source": [
    "sqlq(\"SELECT * FROM suministros\", conn)"
   ]
  },
  {
   "cell_type": "code",
   "execution_count": 16,
   "metadata": {},
   "outputs": [
    {
     "data": {
      "text/html": [
       "<div>\n",
       "<style scoped>\n",
       "    .dataframe tbody tr th:only-of-type {\n",
       "        vertical-align: middle;\n",
       "    }\n",
       "\n",
       "    .dataframe tbody tr th {\n",
       "        vertical-align: top;\n",
       "    }\n",
       "\n",
       "    .dataframe thead th {\n",
       "        text-align: right;\n",
       "    }\n",
       "</style>\n",
       "<table border=\"1\" class=\"dataframe\">\n",
       "  <thead>\n",
       "    <tr style=\"text-align: right;\">\n",
       "      <th></th>\n",
       "      <th>type</th>\n",
       "      <th>name</th>\n",
       "      <th>tbl_name</th>\n",
       "      <th>rootpage</th>\n",
       "      <th>sql</th>\n",
       "    </tr>\n",
       "  </thead>\n",
       "  <tbody>\n",
       "    <tr>\n",
       "      <th>0</th>\n",
       "      <td>table</td>\n",
       "      <td>proveedores</td>\n",
       "      <td>proveedores</td>\n",
       "      <td>2</td>\n",
       "      <td>CREATE TABLE proveedores (\\n    proveedor_id I...</td>\n",
       "    </tr>\n",
       "    <tr>\n",
       "      <th>1</th>\n",
       "      <td>table</td>\n",
       "      <td>sqlite_sequence</td>\n",
       "      <td>sqlite_sequence</td>\n",
       "      <td>4</td>\n",
       "      <td>CREATE TABLE sqlite_sequence(name,seq)</td>\n",
       "    </tr>\n",
       "    <tr>\n",
       "      <th>2</th>\n",
       "      <td>table</td>\n",
       "      <td>categorias</td>\n",
       "      <td>categorias</td>\n",
       "      <td>5</td>\n",
       "      <td>CREATE TABLE categorias (\\n    categoria_id IN...</td>\n",
       "    </tr>\n",
       "    <tr>\n",
       "      <th>3</th>\n",
       "      <td>table</td>\n",
       "      <td>piezas</td>\n",
       "      <td>piezas</td>\n",
       "      <td>7</td>\n",
       "      <td>CREATE TABLE piezas (\\n    pieza_id INTEGER PR...</td>\n",
       "    </tr>\n",
       "  </tbody>\n",
       "</table>\n",
       "</div>"
      ],
      "text/plain": [
       "    type             name         tbl_name  rootpage  \\\n",
       "0  table      proveedores      proveedores         2   \n",
       "1  table  sqlite_sequence  sqlite_sequence         4   \n",
       "2  table       categorias       categorias         5   \n",
       "3  table           piezas           piezas         7   \n",
       "\n",
       "                                                 sql  \n",
       "0  CREATE TABLE proveedores (\\n    proveedor_id I...  \n",
       "1             CREATE TABLE sqlite_sequence(name,seq)  \n",
       "2  CREATE TABLE categorias (\\n    categoria_id IN...  \n",
       "3  CREATE TABLE piezas (\\n    pieza_id INTEGER PR...  "
      ]
     },
     "execution_count": 16,
     "metadata": {},
     "output_type": "execute_result"
    }
   ],
   "source": [
    "sqlq('SELECT * FROM sqlite_master WHERE type == \"table\"', conn)"
   ]
  },
  {
   "cell_type": "code",
   "execution_count": 18,
   "metadata": {},
   "outputs": [
    {
     "data": {
      "text/html": [
       "<div>\n",
       "<style scoped>\n",
       "    .dataframe tbody tr th:only-of-type {\n",
       "        vertical-align: middle;\n",
       "    }\n",
       "\n",
       "    .dataframe tbody tr th {\n",
       "        vertical-align: top;\n",
       "    }\n",
       "\n",
       "    .dataframe thead th {\n",
       "        text-align: right;\n",
       "    }\n",
       "</style>\n",
       "<table border=\"1\" class=\"dataframe\">\n",
       "  <thead>\n",
       "    <tr style=\"text-align: right;\">\n",
       "      <th></th>\n",
       "      <th>proveedor_id</th>\n",
       "      <th>nombre</th>\n",
       "      <th>direccion</th>\n",
       "      <th>ciudad</th>\n",
       "      <th>provincia</th>\n",
       "      <th>codigo_proveedor</th>\n",
       "    </tr>\n",
       "  </thead>\n",
       "  <tbody>\n",
       "    <tr>\n",
       "      <th>0</th>\n",
       "      <td>1</td>\n",
       "      <td>Proveedor A</td>\n",
       "      <td>Calle Madrid</td>\n",
       "      <td>Madrid</td>\n",
       "      <td>Madrid</td>\n",
       "      <td>PROV1</td>\n",
       "    </tr>\n",
       "    <tr>\n",
       "      <th>1</th>\n",
       "      <td>2</td>\n",
       "      <td>Proveedor B</td>\n",
       "      <td>Calle Barna</td>\n",
       "      <td>Barcelona</td>\n",
       "      <td>Barcelona</td>\n",
       "      <td>PROV2</td>\n",
       "    </tr>\n",
       "  </tbody>\n",
       "</table>\n",
       "</div>"
      ],
      "text/plain": [
       "   proveedor_id       nombre     direccion     ciudad  provincia  \\\n",
       "0             1  Proveedor A  Calle Madrid     Madrid     Madrid   \n",
       "1             2  Proveedor B   Calle Barna  Barcelona  Barcelona   \n",
       "\n",
       "  codigo_proveedor  \n",
       "0            PROV1  \n",
       "1            PROV2  "
      ]
     },
     "execution_count": 18,
     "metadata": {},
     "output_type": "execute_result"
    }
   ],
   "source": [
    "df_prov = sqlq('SELECT * FROM proveedores', conn)\n",
    "df_prov"
   ]
  },
  {
   "cell_type": "code",
   "execution_count": 19,
   "metadata": {},
   "outputs": [
    {
     "data": {
      "text/html": [
       "<div>\n",
       "<style scoped>\n",
       "    .dataframe tbody tr th:only-of-type {\n",
       "        vertical-align: middle;\n",
       "    }\n",
       "\n",
       "    .dataframe tbody tr th {\n",
       "        vertical-align: top;\n",
       "    }\n",
       "\n",
       "    .dataframe thead th {\n",
       "        text-align: right;\n",
       "    }\n",
       "</style>\n",
       "<table border=\"1\" class=\"dataframe\">\n",
       "  <thead>\n",
       "    <tr style=\"text-align: right;\">\n",
       "      <th></th>\n",
       "      <th>categoria_id</th>\n",
       "      <th>nombre</th>\n",
       "      <th>codigo_categoria</th>\n",
       "    </tr>\n",
       "  </thead>\n",
       "  <tbody>\n",
       "    <tr>\n",
       "      <th>0</th>\n",
       "      <td>1</td>\n",
       "      <td>Vino</td>\n",
       "      <td>001</td>\n",
       "    </tr>\n",
       "    <tr>\n",
       "      <th>1</th>\n",
       "      <td>2</td>\n",
       "      <td>Distillado</td>\n",
       "      <td>002</td>\n",
       "    </tr>\n",
       "  </tbody>\n",
       "</table>\n",
       "</div>"
      ],
      "text/plain": [
       "   categoria_id      nombre codigo_categoria\n",
       "0             1        Vino              001\n",
       "1             2  Distillado              002"
      ]
     },
     "execution_count": 19,
     "metadata": {},
     "output_type": "execute_result"
    }
   ],
   "source": [
    "df_categ = sqlq('SELECT * FROM categorias', conn)\n",
    "df_categ"
   ]
  },
  {
   "cell_type": "code",
   "execution_count": 20,
   "metadata": {},
   "outputs": [
    {
     "data": {
      "text/html": [
       "<div>\n",
       "<style scoped>\n",
       "    .dataframe tbody tr th:only-of-type {\n",
       "        vertical-align: middle;\n",
       "    }\n",
       "\n",
       "    .dataframe tbody tr th {\n",
       "        vertical-align: top;\n",
       "    }\n",
       "\n",
       "    .dataframe thead th {\n",
       "        text-align: right;\n",
       "    }\n",
       "</style>\n",
       "<table border=\"1\" class=\"dataframe\">\n",
       "  <thead>\n",
       "    <tr style=\"text-align: right;\">\n",
       "      <th></th>\n",
       "      <th>pieza_id</th>\n",
       "      <th>codigo_pieza</th>\n",
       "      <th>nombre</th>\n",
       "      <th>color</th>\n",
       "      <th>precio</th>\n",
       "      <th>categoria_id</th>\n",
       "    </tr>\n",
       "  </thead>\n",
       "  <tbody>\n",
       "    <tr>\n",
       "      <th>0</th>\n",
       "      <td>1</td>\n",
       "      <td>P1</td>\n",
       "      <td>Sotovelo</td>\n",
       "      <td>Blanco</td>\n",
       "      <td>20.5</td>\n",
       "      <td>1</td>\n",
       "    </tr>\n",
       "    <tr>\n",
       "      <th>1</th>\n",
       "      <td>2</td>\n",
       "      <td>P2</td>\n",
       "      <td>10 Mil Botellas</td>\n",
       "      <td>Ambar</td>\n",
       "      <td>80.7</td>\n",
       "      <td>2</td>\n",
       "    </tr>\n",
       "  </tbody>\n",
       "</table>\n",
       "</div>"
      ],
      "text/plain": [
       "   pieza_id codigo_pieza           nombre   color  precio  categoria_id\n",
       "0         1           P1         Sotovelo  Blanco    20.5             1\n",
       "1         2           P2  10 Mil Botellas   Ambar    80.7             2"
      ]
     },
     "execution_count": 20,
     "metadata": {},
     "output_type": "execute_result"
    }
   ],
   "source": [
    "df_piezas = sqlq('SELECT * FROM piezas', conn)\n",
    "df_piezas"
   ]
  },
  {
   "cell_type": "code",
   "execution_count": null,
   "metadata": {},
   "outputs": [],
   "source": []
  },
  {
   "cell_type": "code",
   "execution_count": null,
   "metadata": {},
   "outputs": [],
   "source": [
    "conn.commit()\n",
    "conn.close()"
   ]
  }
 ],
 "metadata": {
  "kernelspec": {
   "display_name": "Python 3.12.4 (venv)",
   "language": "python",
   "name": "kernel_python3124"
  },
  "language_info": {
   "codemirror_mode": {
    "name": "ipython",
    "version": 3
   },
   "file_extension": ".py",
   "mimetype": "text/x-python",
   "name": "python",
   "nbconvert_exporter": "python",
   "pygments_lexer": "ipython3",
   "version": "3.12.4"
  }
 },
 "nbformat": 4,
 "nbformat_minor": 2
}
